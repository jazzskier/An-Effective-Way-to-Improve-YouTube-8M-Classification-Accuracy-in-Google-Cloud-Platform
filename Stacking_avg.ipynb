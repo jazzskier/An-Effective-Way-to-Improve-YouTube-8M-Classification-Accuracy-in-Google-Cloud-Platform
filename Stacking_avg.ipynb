{
 "cells": [
  {
   "cell_type": "code",
   "execution_count": 1,
   "metadata": {},
   "outputs": [],
   "source": [
    "import numpy as np # linear algebra\n",
    "import pandas as pd \n",
    "from collections import defaultdict, Counter\n",
    "from glob import glob\n",
    "import sys\n",
    "from collections import OrderedDict\n",
    "\n",
    "#glob_files = sys.argv[1]\n",
    "#loc_outfile = sys.argv[2]\n",
    "\n",
    "def kaggle_bag(glob_files, loc_outfile, method=\"average\", weights=\"uniform\"):\n",
    "    if method == \"average\":\n",
    "        scores_dict = defaultdict(list)\n",
    "    file_num = 0\n",
    "    \n",
    "    with open(loc_outfile,\"w\") as outfile:\n",
    "        for i, glob_file in enumerate( glob(glob_files) ):\n",
    "            file_num+=1\n",
    "            print (\"parsing:\", glob_file)\n",
    "            lines = open(glob_file).readlines()\n",
    "            for e, line in enumerate( lines ):\n",
    "                if i == 0 and e == 0:\n",
    "                    outfile.write(line)\n",
    "                if e > 0 and e <= 700640 :\n",
    "                    row = line.strip().split(\",\")\n",
    "                    string_list=row[1].split(\" \")\n",
    "                    float_list=[float(string_list[x]) for x in range(0, len(string_list))]\n",
    "                    newlist=[float_list[x:x+2] for x in range(0, len(float_list), 2)]\n",
    "#                   label_prob_dict=OrderedDict((label, prob) for (label, prob) in newlist) \n",
    "                    for x in range(0, len(newlist)):\n",
    "                        scores_dict[e,(row[0])].append(newlist[x])\n",
    "                \n",
    "        print (\"input number of models is %d\" %file_num)      \n",
    "        \n",
    "        dict_list=[]\n",
    "        for j,k in scores_dict:\n",
    "            dict_now=defaultdict(list)\n",
    "            for key, value in scores_dict[(j,k)]:\n",
    "                dict_now[(k,key)].append(value)        \n",
    "            dict_list.append(dict_now)\n",
    "#        print (\"abcd\",dict_list,\"abcd\")\n",
    "         \n",
    "        for i in range (0, len(dict_list)):\n",
    "            dict_now=defaultdict(float)\n",
    "            str_pred=\"\"\n",
    "            for j,k in dict_list[i]:      \n",
    "                if len(dict_list[i][(j,k)])>3: \n",
    "                    temp_mean=np.mean(dict_list[i][(j,k)])\n",
    "#                    if temp_mean<0.9:\n",
    "                    dict_now.update({(j,k):temp_mean})\n",
    "#                    else:\n",
    "#                        dict_now.update({(j,k):1})    \n",
    "                else:\n",
    "                    dict_now.update({(j,k):np.sum(dict_list[i][(j,k)])/file_num})\n",
    "            label_list=sorted(dict_now, key=dict_now.get, reverse=True)\n",
    "#            for m in range (0, len(label_list)):\n",
    "            for m in range (0, 20):\n",
    "                str_pred=str_pred+str(int(label_list[m][1]))+\" \" + str(dict_now[label_list[m][0],label_list[m][1]])+\" \"\n",
    "#            print (str_pred) \n",
    "            outfile.write(\"%s,%s\\n\"%(j,str_pred))\n",
    "#            print (dict_now)\n",
    "#            print (label_list)\n",
    "\n",
    "\n",
    "\n",
    "        print(\"wrote to %s\"%loc_outfile)\n",
    "    \n",
    "    \n"
   ]
  },
  {
   "cell_type": "code",
   "execution_count": 34,
   "metadata": {
    "scrolled": true
   },
   "outputs": [
    {
     "name": "stdout",
     "output_type": "stream",
     "text": [
      "parsing: /Users/zhenzhenzhong/Downloads/predictions/20170520_yt8m_train_frame_DbofModel_audio2_predictions0p767.csv\n",
      "parsing: /Users/zhenzhenzhong/Downloads/predictions/frame_level_DbofModel2Fpredictions0p7356.csv\n",
      "parsing: /Users/zhenzhenzhong/Downloads/predictions/LstmModel_predictions.csv\n",
      "parsing: /Users/zhenzhenzhong/Downloads/predictions/video_lvl_rgb_audio_train_validate_logistic_predictions_0p76036.csv\n",
      "parsing: /Users/zhenzhenzhong/Downloads/predictions/video_lvl_rgb_audio_train_validate_moe_predictions_0p78453.csv\n",
      "parsing: /Users/zhenzhenzhong/Downloads/predictions/yt8m_train_video_level_logistic_model_predictions_blending_all_0p76873.csv\n",
      "parsing: /Users/zhenzhenzhong/Downloads/predictions/yt8m_train_video_level_moe_model_predictions_blending_valall_moe2newfeature_0p78457.csv\n",
      "input number of models is 7\n",
      "wrote to /Users/zhenzhenzhong/Downloads/predictions/test601b.csv\n"
     ]
    }
   ],
   "source": [
    "#glob_files=(\"/Users/zhenzhenzhong/Downloads/vl_ra_moe_trainastest_predictions.csv\")\n",
    "\n",
    "glob_files=(\"/Users/zhenzhenzhong/Downloads/predictions/*predictions*.csv\") \n",
    "loc_outfile=\"/Users/zhenzhenzhong/Downloads/predictions/test601b.csv\"\n",
    "kaggle_bag(glob_files, loc_outfile ,method=\"average\",weights=\"uniform\" )\n",
    "\n",
    "\n",
    "\n"
   ]
  }
 ],
 "metadata": {
  "kernelspec": {
   "display_name": "Python 3",
   "language": "python",
   "name": "python3"
  },
  "language_info": {
   "codemirror_mode": {
    "name": "ipython",
    "version": 3
   },
   "file_extension": ".py",
   "mimetype": "text/x-python",
   "name": "python",
   "nbconvert_exporter": "python",
   "pygments_lexer": "ipython3",
   "version": "3.5.3"
  }
 },
 "nbformat": 4,
 "nbformat_minor": 2
}

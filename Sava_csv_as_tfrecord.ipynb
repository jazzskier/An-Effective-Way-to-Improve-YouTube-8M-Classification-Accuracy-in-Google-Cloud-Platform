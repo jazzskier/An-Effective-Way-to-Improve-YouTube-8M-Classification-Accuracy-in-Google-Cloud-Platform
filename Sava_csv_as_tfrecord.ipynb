{
 "cells": [
  {
   "cell_type": "markdown",
   "metadata": {},
   "source": [
    "# Stacking"
   ]
  },
  {
   "cell_type": "code",
   "execution_count": 1,
   "metadata": {
    "collapsed": true
   },
   "outputs": [],
   "source": [
    "import numpy as np # linear algebra\n",
    "import pandas as pd \n",
    "from sklearn.datasets import make_classification\n",
    "from sklearn.multioutput import MultiOutputClassifier\n",
    "from sklearn.ensemble import RandomForestClassifier\n",
    "from sklearn.utils import shuffle\n",
    "from sklearn.preprocessing import MultiLabelBinarizer\n",
    "from sklearn import linear_model\n",
    "import tensorflow as tf"
   ]
  },
  {
   "cell_type": "markdown",
   "metadata": {},
   "source": [
    "# Write prediction to matrix"
   ]
  },
  {
   "cell_type": "code",
   "execution_count": 2,
   "metadata": {
    "collapsed": true
   },
   "outputs": [],
   "source": [
    "def stacking_feature(file):\n",
    "    from sklearn.feature_extraction import DictVectorizer\n",
    "    lines=open(file).readlines()\n",
    "    result=[]\n",
    "    file_id=[]\n",
    "    for e,line in enumerate(lines):\n",
    "        if e>0:\n",
    "            row=line.strip().split(\",\")\n",
    "            string_list=row[1].split(\" \")\n",
    "            float_list=[float(string_list[x]) if x%2==1 else string_list[x] for x in range(0,len(string_list))]\n",
    "            newlist=[float_list[x:x+2] for x in range(0,len(float_list),2)]\n",
    "            score_dict={}\n",
    "            for x in range(0,len(newlist)):\n",
    "                score_dict[newlist[x][0]]=(newlist[x][1])\n",
    "            result.append(score_dict)\n",
    "            file_id.append(row[0])\n",
    "    feature=DictVectorizer(sparse=False).fit_transform(result)\n",
    "    return file_id,feature"
   ]
  },
  {
   "cell_type": "code",
   "execution_count": 3,
   "metadata": {
    "collapsed": true
   },
   "outputs": [],
   "source": [
    "def _int64list_feature(value):\n",
    "    return tf.train.Feature(int64_list=tf.train.Int64List(value=value))\n",
    "\n",
    "def _int64_feature(value):\n",
    "    return tf.train.Feature(int64_list=tf.train.Int64List(value=[value]))\n",
    "\n",
    "def _bytes_feature(value):\n",
    "    return tf.train.Feature(bytes_list=tf.train.BytesList(value=[value]))\n",
    "\n",
    "def _floats_feature(value):\n",
    "    return tf.train.Feature(float_list=tf.train.FloatList(value=value)) \n",
    "\n",
    "\n",
    "class NumpyToTFHelper(object):\n",
    "    def __init__(self,filenames):\n",
    "        self.filenames = filenames\n",
    "        self.current_file = -1\n",
    "        self.current_index = 0 \n",
    "        self.current_array = None\n",
    "    def get_next(self):\n",
    "        if self.current_file<len(self.filenames)-1:\n",
    "            self.current_file += 1\n",
    "            self.current_array = self.filenames[self.current_file]\n",
    "        else:\n",
    "            return None\n",
    "        self.current_index+=1\n",
    "        cur = self.filenames[self.current_index -1] \n",
    "        return np.matrix(cur).A1\n"
   ]
  },
  {
   "cell_type": "markdown",
   "metadata": {},
   "source": [
    "## labels"
   ]
  },
  {
   "cell_type": "code",
   "execution_count": 4,
   "metadata": {
    "collapsed": true
   },
   "outputs": [],
   "source": [
    "val_y = pd.read_csv(\"/Users/shujiaohuang_Mac/Downloads/validate_labels.csv\",header=None).as_matrix()"
   ]
  },
  {
   "cell_type": "markdown",
   "metadata": {},
   "source": [
    "## X_train"
   ]
  },
  {
   "cell_type": "code",
   "execution_count": 8,
   "metadata": {
    "collapsed": true
   },
   "outputs": [],
   "source": [
    "moe_2feature_eval_stacking_new_feature_withid=stacking_feature('.../moe_2feature_eval_predictions.csv')"
   ]
  },
  {
   "cell_type": "code",
   "execution_count": 24,
   "metadata": {},
   "outputs": [
    {
     "data": {
      "text/plain": [
       "array([[ 0.682859,  0.044098,  0.      , ...,  0.      ,  0.      ,  0.      ],\n",
       "       [ 0.      ,  0.978585,  0.      , ...,  0.      ,  0.      ,  0.      ],\n",
       "       [ 0.999238,  0.      ,  0.      , ...,  0.      ,  0.      ,  0.      ],\n",
       "       ..., \n",
       "       [ 0.999989,  0.      ,  0.      , ...,  0.      ,  0.      ,  0.      ],\n",
       "       [ 0.01214 ,  0.      ,  0.      , ...,  0.      ,  0.      ,  0.      ],\n",
       "       [ 0.654479,  0.982899,  0.      , ...,  0.      ,  0.      ,  0.      ]])"
      ]
     },
     "execution_count": 24,
     "metadata": {},
     "output_type": "execute_result"
    }
   ],
   "source": [
    "moe_2feature_eval_stacking_new_feature=moe_2feature_eval_stacking_new_feature_withid[1]\n",
    "moe_2feature_eval_stacking_new_feature"
   ]
  },
  {
   "cell_type": "code",
   "execution_count": 25,
   "metadata": {},
   "outputs": [
    {
     "data": {
      "text/plain": [
       "(1401828, 4716)"
      ]
     },
     "execution_count": 25,
     "metadata": {},
     "output_type": "execute_result"
    }
   ],
   "source": [
    "moe_2feature_eval_stacking_new_feature.shape"
   ]
  },
  {
   "cell_type": "code",
   "execution_count": 31,
   "metadata": {
    "collapsed": true
   },
   "outputs": [],
   "source": [
    "num=100000\n",
    "for iter in range(1,16):\n",
    "    if iter<moe_2feature_eval_stacking_new_feature.shape[0]/num:\n",
    "        X_top=moe_2feature_eval_stacking_new_feature[int(iter-1)*num:int(iter)*num]\n",
    "        y_top=val_y[int(iter-1)*num:int(iter)*num]\n",
    "    else:\n",
    "        X_top=moe_2feature_eval_stacking_new_feature[int(iter-1)*num::]\n",
    "        y_top=val_y[int(iter-1)*num::]\n",
    "    filename='moe_val_10w_'+str(iter)+'.tfrecord'\n",
    "    writer = tf.python_io.TFRecordWriter(filename)\n",
    "    N_X = NumpyToTFHelper(X_top) \n",
    "    n_X = N_X.get_next()\n",
    "    N_y = NumpyToTFHelper(y_top)\n",
    "    n_y = N_y.get_next()\n",
    "    while n_X is not None:\n",
    "        example = tf.train.Example(\n",
    "            features=tf.train.Features(\n",
    "                feature={\n",
    "                    'video_id':_bytes_feature(bytes(n_y[0],'utf-8')),\n",
    "                    'labels':_int64list_feature([int(i) for i in n_y[1].split(' ')]),\n",
    "                    'New_feature':_floats_feature([float(i) for i in n_X])\n",
    "                }\n",
    "            )\n",
    "        ) \n",
    "        writer.write(example.SerializeToString())\n",
    "        n_X=N_X.get_next()\n",
    "        n_y = N_y.get_next()\n",
    "    writer.close()"
   ]
  },
  {
   "cell_type": "code",
   "execution_count": 4,
   "metadata": {
    "collapsed": true
   },
   "outputs": [],
   "source": [
    "logistic_2feature_eval_stacking_new_feature_withid=stacking_feature('/Users/shujiaohuang_Mac/Downloads/logistic_val_predictions.csv')"
   ]
  },
  {
   "cell_type": "code",
   "execution_count": 24,
   "metadata": {
    "collapsed": true
   },
   "outputs": [],
   "source": [
    "logistic_2feature_eval_stacking_new_feature=logistic_2feature_eval_stacking_new_feature_withid[1]"
   ]
  },
  {
   "cell_type": "code",
   "execution_count": 135,
   "metadata": {},
   "outputs": [
    {
     "data": {
      "text/plain": [
       "array([[ 0.907931,  0.02949 ,  0.      , ...,  0.      ,  0.      ,  0.      ],\n",
       "       [ 0.      ,  0.976476,  0.      , ...,  0.      ,  0.      ,  0.      ],\n",
       "       [ 0.999979,  0.      ,  0.      , ...,  0.      ,  0.      ,  0.      ],\n",
       "       ..., \n",
       "       [ 0.999975,  0.016853,  0.      , ...,  0.      ,  0.      ,  0.      ],\n",
       "       [ 0.048551,  0.004482,  0.      , ...,  0.      ,  0.      ,  0.      ],\n",
       "       [ 0.465478,  0.954355,  0.      , ...,  0.      ,  0.      ,  0.      ]])"
      ]
     },
     "execution_count": 135,
     "metadata": {},
     "output_type": "execute_result"
    }
   ],
   "source": [
    "logistic_2feature_eval_stacking_new_feature"
   ]
  },
  {
   "cell_type": "code",
   "execution_count": 144,
   "metadata": {},
   "outputs": [
    {
     "name": "stdout",
     "output_type": "stream",
     "text": [
      "3\n",
      "4\n",
      "5\n",
      "6\n",
      "7\n",
      "8\n",
      "9\n",
      "10\n",
      "11\n",
      "12\n",
      "13\n",
      "14\n",
      "15\n"
     ]
    }
   ],
   "source": [
    "# Both moe and logisitc val tfrecord\n",
    "for iteration in range(1,16):\n",
    "    print(iteration)\n",
    "    file_iter='10w_'+str(iteration)\n",
    "    num=100000\n",
    "    #file_iter='10w_'+str(iteration)\n",
    "    moe_val='/Users/shujiaohuang_Mac/Downloads/moe_val_'+str(file_iter)+'.tfrecord'\n",
    "    filename='both_moe_logistic_val_'+str(file_iter)+'.tfrecord'\n",
    "    writer = tf.python_io.TFRecordWriter(filename)\n",
    "    if iter<logistic_2feature_eval_stacking_new_feature.shape[0]/num:\n",
    "        logistic_feature_temp=logistic_2feature_eval_stacking_new_feature[int(iteration-1)*num:int(iteration)*num]\n",
    "    else:\n",
    "        logistic_feature_temp=logistic_2feature_eval_stacking_new_feature[int(iteration-1)*num::]\n",
    "    N_logistic=NumpyToTFHelper(logistic_feature_temp) \n",
    "    n_logistic = N_logistic.get_next()\n",
    "    for example in tf.python_io.tf_record_iterator(moe_val):\n",
    "        moe_example=tf.train.Example.FromString(example)\n",
    "        example_both_moe_logistic=tf.train.Example(\n",
    "            features=tf.train.Features(\n",
    "                feature={\n",
    "                    'video_id':moe_example.features.feature['video_id'],\n",
    "                    'labels':moe_example.features.feature['labels'],\n",
    "                    'moe_newfeature':moe_example.features.feature['New_feature'],\n",
    "                    'logistic_newfeature':_floats_feature([float(i) for i in n_logistic])\n",
    "                }\n",
    "            )\n",
    "        )\n",
    "        writer.write(example_both_moe_logistic.SerializeToString())\n",
    "        n_logistic=N_logistic.get_next()\n",
    "    writer.close()"
   ]
  },
  {
   "cell_type": "markdown",
   "metadata": {},
   "source": [
    "## X_test"
   ]
  },
  {
   "cell_type": "code",
   "execution_count": null,
   "metadata": {
    "collapsed": true
   },
   "outputs": [],
   "source": [
    "moe_2feature_test_blending_new_feature_withid=stacking_feature('.../moe_test_predictions.csv')\n",
    "test_id=moe_2feature_test_blending_new_feature_withid[0]\n",
    "feature=moe_2feature_test_blending_new_feature_withid[1]"
   ]
  },
  {
   "cell_type": "code",
   "execution_count": 52,
   "metadata": {
    "collapsed": true
   },
   "outputs": [],
   "source": [
    "# moe\n",
    "num=50000\n",
    "for iter in range(1,16):\n",
    "    if iter<feature.shape[0]/num:\n",
    "        test_id_temp=np.array([test_id[int(iter-1)*num:int(iter)*num]])\n",
    "        feature_temp=feature[int(iter-1)*num:int(iter)*num]\n",
    "    else:\n",
    "        test_id_temp=np.array([test_id[int(iter-1)*num::]])\n",
    "        feature_temp=feature[int(iter-1)*num::]\n",
    "    filename='moe_test_5w_'+str(iter)+'.tfrecord'\n",
    "    writer = tf.python_io.TFRecordWriter(filename)\n",
    "    N_feature = NumpyToTFHelper(feature_temp) \n",
    "    n_feature = N_feature.get_next()\n",
    "    N_id=NumpyToTFHelper(test_id_temp.T) \n",
    "    n_id = N_id.get_next()\n",
    "    while n_id is not None:\n",
    "        raw=n.tostring()\n",
    "        example = tf.train.Example(\n",
    "            features=tf.train.Features(\n",
    "                feature={\n",
    "                    'video_id':_bytes_feature(bytes(n_id[0],'utf-8')),\n",
    "                    'labels':_int64list_feature([]),\n",
    "                    'New_feature':_floats_feature([float(i) for i in n_feature])\n",
    "                }\n",
    "            )\n",
    "        ) \n",
    "        writer.write(example.SerializeToString())\n",
    "        n_feature=N_feature.get_next()\n",
    "        n_id=N_id.get_next()\n",
    "    writer.close()"
   ]
  },
  {
   "cell_type": "code",
   "execution_count": 4,
   "metadata": {
    "collapsed": true
   },
   "outputs": [],
   "source": [
    "logistic_2feature_test_blending_new_feature_withid=stacking_feature('/Users/shujiaohuang_Mac/Downloads/logistic_test_predictions.csv')\n",
    "logistic_2feature_test_blending_new_feature=logistic_2feature_test_blending_new_feature_withid[1]"
   ]
  },
  {
   "cell_type": "code",
   "execution_count": 32,
   "metadata": {},
   "outputs": [
    {
     "name": "stdout",
     "output_type": "stream",
     "text": [
      "1\n",
      "2\n",
      "3\n",
      "4\n",
      "5\n",
      "6\n",
      "7\n",
      "8\n",
      "9\n",
      "10\n",
      "11\n",
      "12\n",
      "13\n",
      "14\n",
      "15\n"
     ]
    }
   ],
   "source": [
    "# Both moe and logisitc test tfrecord\n",
    "for iteration in range(1,16):\n",
    "    print(iteration)\n",
    "    num=50000\n",
    "    moe_test='/Users/shujiaohuang_Mac/Downloads/moe_test_all/moe_test_5w_'+str(iteration)+'.tfrecord'\n",
    "    filename='both_moe_logistic_test_5w_'+str(iteration)+'.tfrecord'\n",
    "    writer = tf.python_io.TFRecordWriter(filename)\n",
    "    if iteration<logistic_2feature_test_blending_new_feature.shape[0]/num:\n",
    "        logistic_feature_temp=logistic_2feature_test_blending_new_feature[int(iteration-1)*num:int(iteration)*num]\n",
    "    else:\n",
    "        logistic_feature_temp=logistic_2feature_test_blending_new_feature[int(iteration-1)*num::]\n",
    "    N_logistic=NumpyToTFHelper(logistic_feature_temp) \n",
    "    n_logistic = N_logistic.get_next()\n",
    "    for example in tf.python_io.tf_record_iterator(moe_test):\n",
    "        moe_example=tf.train.Example.FromString(example)\n",
    "        example_both_moe_logistic=tf.train.Example(\n",
    "            features=tf.train.Features(\n",
    "                feature={\n",
    "                    'video_id':moe_example.features.feature['video_id'],\n",
    "                    'labels':moe_example.features.feature['labels'],\n",
    "                    'moe_newfeature':moe_example.features.feature['New_feature'],\n",
    "                    'logistic_newfeature':_floats_feature([float(i) for i in n_logistic])\n",
    "                }\n",
    "            )\n",
    "        )\n",
    "        writer.write(example_both_moe_logistic.SerializeToString())\n",
    "        n_logistic=N_logistic.get_next()\n",
    "    writer.close()"
   ]
  }
 ],
 "metadata": {
  "kernelspec": {
   "display_name": "Python 3",
   "language": "python",
   "name": "python3"
  },
  "language_info": {
   "codemirror_mode": {
    "name": "ipython",
    "version": 3
   },
   "file_extension": ".py",
   "mimetype": "text/x-python",
   "name": "python",
   "nbconvert_exporter": "python",
   "pygments_lexer": "ipython3",
   "version": "3.6.0"
  }
 },
 "nbformat": 4,
 "nbformat_minor": 2
}
